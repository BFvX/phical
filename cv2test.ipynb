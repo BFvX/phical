{
 "cells": [
  {
   "cell_type": "code",
   "execution_count": 1,
   "metadata": {},
   "outputs": [],
   "source": [
    "from matplotlib.backends.backend_agg import FigureCanvasAgg as FigureCanvas\n",
    "from matplotlib.figure import Figure\n",
    "import cv2\n",
    "import matplotlib.pyplot as plt\n",
    "import numpy as np\n",
    "import time"
   ]
  },
  {
   "cell_type": "code",
   "execution_count": 39,
   "metadata": {},
   "outputs": [
    {
     "data": {
      "image/png": "[encoded data removed]",
      "text/plain": [
       "<Figure size 2304x120.24 with 1 Axes>"
      ]
     },
     "metadata": {
      "needs_background": "light"
     },
     "output_type": "display_data"
    }
   ],
   "source": [
    "fig = plt.figure(figsize=(32,1.67))\n",
    "canvas = FigureCanvas(fig)\n",
    "ax = fig.gca()\n",
    "ax.text(0.0,0.25,\"ACC=98.23%\", fontsize=50)\n",
    "ax.text(0.78,0.25,\"Theory=956872\", fontsize=50)\n",
    "ax.axis('off')\n",
    "plt.savefig(\"1.png\")"
   ]
  },
  {
   "cell_type": "code",
   "execution_count": 40,
   "metadata": {},
   "outputs": [],
   "source": [
    "img = cv2.imread(\"1.png\")\n",
    "img = cv2.resize(img, (1920, 100))\n",
    "(h, w) = img.shape[:2]\n",
    "size = (w, h)\n",
    "fps = 11.988\n",
    "fourcc = cv2.VideoWriter_fourcc(*'MJPG')\n",
    "video = cv2.VideoWriter(\"1.avi\", fourcc, fps, size, isColor=True)\n",
    "video.write(img)\n",
    "video.release()"
   ]
  },
  {
   "cell_type": "code",
   "execution_count": null,
   "metadata": {},
   "outputs": [],
   "source": [
    "#DEBUG MAIN\n",
    "from note_solve import NoResult, solve_eqn, solve_pre\n",
    "import time\n",
    "from ocr import ocr_score\n",
    "from solve import solve_n_export\n",
    "from tqdm import tqdm\n",
    "import os\n",
    "def reduce(judge_list):\n",
    "    #reduce bad\n",
    "    i,j=1,0\n",
    "    bad_list = [judge[1][2] for judge in judge_list]\n",
    "    length = len(bad_list)\n",
    "    try:\n",
    "        while(i<length):\n",
    "            #print(i,j)\n",
    "            #print(bad_list)\n",
    "            while(bad_list[i]>=bad_list[j]):\n",
    "                i = i + 1\n",
    "                j = i - 1\n",
    "            while(bad_list[i]<bad_list[j]):\n",
    "                bad_list[j] = bad_list[i]\n",
    "                j = j - 1\n",
    "            i = i + 1\n",
    "            j = i - 1\n",
    "    except IndexError:\n",
    "        pass\n",
    "    for i in range(length):\n",
    "        judge_list[i][1][2] = bad_list[i]\n",
    "    #reduce perfect and good\n",
    "    for i in range(1,length):\n",
    "        if min(judge_list[i][1]-judge_list[i-1][1])<0:\n",
    "            judge_list[i][1] = judge_list[i-1][1]\n",
    "    \n",
    "    return judge_list\n",
    "\n",
    "def theory(numOfNotes,judge):\n",
    "    return round(1e6*(judge[0]+0.65*judge[1]+numOfNotes-sum(judge))/numOfNotes)\n",
    "\n",
    "def accuracy(judge):\n",
    "    return str(round((judge[0]+0.65*judge[1]+0.0*judge[2])/sum(judge)*100,2))+'%'\n",
    "\n",
    "\n",
    "judge_list = []\n",
    "\n",
    "select_chart = '狂喜蘭舞.LeaF.0'\n",
    "select_level = 'HD'\n",
    "start_actual = int(input(\"实际第一个音符判定时间(ms)\"))\n",
    "time_list = ocr_score()\n",
    "\n",
    "#TODO: 使用缓存\n",
    "note_list = solve_n_export(select_chart,select_level)\n",
    "note_iter = iter(sorted(note_list.items()))\n",
    "\n",
    "note_time,note_attr = next(note_iter)\n",
    "delta = start_actual - note_time\n",
    "numOfNotes = max(attr['i'] for attr in sorted(note_list.items(),reverse=True)[0][1]) + 1\n",
    "\n",
    "for t in tqdm(time_list):\n",
    "    bad = 0\n",
    "    while(note_time+delta<=t[0]):\n",
    "        try:\n",
    "            note_time,note_attr = next(note_iter)\n",
    "        except StopIteration:\n",
    "            break\n",
    "    pa = max(attr['i'] for attr in note_attr) + 1\n",
    "    score = t[1]\n",
    "    try:\n",
    "        judge_list.append([t[0],solve_eqn(numOfNotes,score,bad,pa)])\n",
    "    except NoResult:\n",
    "        pass\n",
    "    \n",
    "judge_list = reduce(judge_list)\n",
    "\n",
    "for index in tqdm(range(len(judge_list))):\n",
    "    fig = plt.figure(figsize=(32,1.67))\n",
    "    canvas = FigureCanvas(fig)\n",
    "    ax = fig.gca()\n",
    "    ax.text(0.0,0.25,\"ACC=\"+accuracy(judge_list[index][1]), fontsize=50)\n",
    "    ax.text(0.78,0.25,\"Theory=\"+str(theory(numOfNotes,judge_list[index][1])), fontsize=50)\n",
    "    ax.axis('off')\n",
    "    plt.savefig(\"./video/\"+str(round(judge_list[index][0]/1000*11.988))+\".png\")\n",
    "    plt.close()\n",
    "\n",
    "\n",
    "\n",
    "\n"
   ]
  },
  {
   "cell_type": "code",
   "execution_count": 11,
   "metadata": {},
   "outputs": [
    {
     "name": "stderr",
     "output_type": "stream",
     "text": [
      "100%|██████████| 1848/1848 [00:08<00:00, 229.39it/s]\n"
     ]
    }
   ],
   "source": [
    "img = cv2.imread(\"./video/0.png\")\n",
    "img = cv2.resize(img, (1920, 100))\n",
    "(h, w) = img.shape[:2]\n",
    "size = (w, h)\n",
    "fps = 11.988\n",
    "fourcc = cv2.VideoWriter_fourcc(*'X264')\n",
    "video = cv2.VideoWriter('output.mp4', fourcc, fps, size, isColor=True)\n",
    "img_num = round(judge_list[-1][0]/1000*11.988) + 1\n",
    "for i in tqdm(range(img_num)):\n",
    "    path = './video/'+str(i)+'.png'\n",
    "    if os.path.exists(path):\n",
    "        img = cv2.imread(path)\n",
    "        img = cv2.resize(img, (1920, 100))\n",
    "    video.write(img)\n",
    "video.release()\n"
   ]
  }
 ],
 "metadata": {
  "interpreter": {
   "hash": "5079a34670f2be3b9271dee71fe3dc3cfddc6716cb00861e11f244092d196e47"
  },
  "kernelspec": {
   "display_name": "Python 3.9.7 64-bit",
   "name": "python3"
  },
  "language_info": {
   "codemirror_mode": {
    "name": "ipython",
    "version": 3
   },
   "file_extension": ".py",
   "mimetype": "text/x-python",
   "name": "python",
   "nbconvert_exporter": "python",
   "pygments_lexer": "ipython3",
   "version": "3.9.7"
  },
  "orig_nbformat": 4
 },
 "nbformat": 4,
 "nbformat_minor": 2
}
